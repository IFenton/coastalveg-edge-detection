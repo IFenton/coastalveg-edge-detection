{
 "cells": [
  {
   "cell_type": "markdown",
   "metadata": {
    "id": "dTrSnwGXhdEQ"
   },
   "source": [
    "# Automatic coastal vegetation edge detection\n",
    "\n",
    "## Context\n",
    "Coastal communities, land covers, and intertidal habitats are vulnerable receptors of erosion, flooding or both in combination. This vulnerability is likely to increase with sea level rise and greater storminess over future decadal-scale time periods [(Rogers et al., 2021)](https://www.tandfonline.com/doi/abs/10.1080/01431161.2021.1897185?journalCode=tres20).\n",
    "\n",
    "`VEdge_Detector` is a python-based tool for the automated detection of coastal vegetation edges in remote sensing imagery. The tool produces a heatmap, showing the pixels predicted with the highest confidence as being the vegetation line (Figure 1).\n",
    "\n",
    "<img src=\"https://github.com/MartinSJRogers/VEdge_Detector/blob/907ed83096570b87dcd211384c697d51097f3872/example_Images.png?raw=true\" width=\"600\">\n",
    "\n",
    "**Figure 1** Outputs produced by the `VEdge_Detector` model in A) Suffolk, United Kingdom; B) Wilk auf Föhr, Germany and C) Varela, Guinea Bissau. Source: [Rogers (2021)](https://github.com/MartinSJRogers/VEdge_Detector).\n",
    "\n",
    "The `VEdge_Detector` model was trained using Planet 3 – 5 m spatial resolution imagery. It has also detected vegetation edges in Landsat and Copernicus imagery, although performance is not guaranteed. The tool cannot detect the vegetation edge in aerial imagery.\n",
    "\n",
    "<div class=\"alert alert-block alert-info\">\n",
    "In this notebook, we'll walk through how scivision can assist in discovering the `VEdge_detector` model available in the scivision branch of the model repository and then use it to generate predictions of coastal vegetation line over a sample satellite image. \n",
    "    \n",
    "Further details of how the model has been trained and developed is outlined in the publication by [Rogers et al. (2021)](https://www.tandfonline.com/doi/abs/10.1080/01431161.2021.1897185?journalCode=tres20) .\n",
    "</div>"
   ]
  },
  {
   "cell_type": "markdown",
   "metadata": {},
   "source": [
    "## Load scivision\n",
    "\n",
    "To get started, let's first load `scivision` modules relevant to this notebook."
   ]
  },
  {
   "cell_type": "code",
   "execution_count": 13,
   "metadata": {
    "pycharm": {
     "name": "#%%\n"
    }
   },
   "outputs": [],
   "source": [
    "from scivision.catalog import default_catalog\n",
    "from scivision.io import load_pretrained_model, load_dataset"
   ]
  },
  {
   "cell_type": "markdown",
   "metadata": {
    "id": "lPi33aEuhdEd"
   },
   "source": [
    "## Catalog\n",
    "\n",
    "We'll use the VEdge_detector model which is registered in the scivision model catalog as `vegde-detector`. Then we'll look with `compatible_datasources` potential data entries registered in the scivision data catalog with tasks and format compatible with the model."
   ]
  },
  {
   "cell_type": "code",
   "execution_count": 14,
   "metadata": {
    "pycharm": {
     "name": "#%%\n"
    }
   },
   "outputs": [],
   "source": [
    "model_name = 'vegde-detector'"
   ]
  },
  {
   "cell_type": "code",
   "execution_count": 16,
   "metadata": {},
   "outputs": [
    {
     "data": {
      "text/html": [
       "<div>\n",
       "<style scoped>\n",
       "    .dataframe tbody tr th:only-of-type {\n",
       "        vertical-align: middle;\n",
       "    }\n",
       "\n",
       "    .dataframe tbody tr th {\n",
       "        vertical-align: top;\n",
       "    }\n",
       "\n",
       "    .dataframe thead th {\n",
       "        text-align: right;\n",
       "    }\n",
       "</style>\n",
       "<table border=\"1\" class=\"dataframe\">\n",
       "  <thead>\n",
       "    <tr style=\"text-align: right;\">\n",
       "      <th></th>\n",
       "      <th>name</th>\n",
       "      <th>description</th>\n",
       "      <th>tasks</th>\n",
       "      <th>domains</th>\n",
       "      <th>url</th>\n",
       "      <th>format</th>\n",
       "      <th>labels_provided</th>\n",
       "      <th>institution</th>\n",
       "      <th>tags</th>\n",
       "    </tr>\n",
       "  </thead>\n",
       "  <tbody>\n",
       "    <tr>\n",
       "      <th>0</th>\n",
       "      <td>data-000</td>\n",
       "      <td>None</td>\n",
       "      <td>(TaskEnum.object_detection, TaskEnum.segmentat...</td>\n",
       "      <td>(optical-microscopy,)</td>\n",
       "      <td>https://github.com/stardist/stardist/releases/...</td>\n",
       "      <td>image</td>\n",
       "      <td>True</td>\n",
       "      <td>(epfl,)</td>\n",
       "      <td>(help-needed, 3D, cell, cell-counting, biology...</td>\n",
       "    </tr>\n",
       "    <tr>\n",
       "      <th>1</th>\n",
       "      <td>data-001</td>\n",
       "      <td>None</td>\n",
       "      <td>(TaskEnum.segmentation, TaskEnum.thresholding,...</td>\n",
       "      <td>(multispectral, hyperspectral)</td>\n",
       "      <td>https://gitlab.au.dk/AUENG-Vision/OPPD/-/archi...</td>\n",
       "      <td>image</td>\n",
       "      <td>True</td>\n",
       "      <td>(Aarhus University,)</td>\n",
       "      <td>(help-needed, 2D, plant-phenotyping, agricultu...</td>\n",
       "    </tr>\n",
       "    <tr>\n",
       "      <th>2</th>\n",
       "      <td>data-002</td>\n",
       "      <td>None</td>\n",
       "      <td>(TaskEnum.classificiation,)</td>\n",
       "      <td>(oceanography,)</td>\n",
       "      <td>https://github.com/scotthosking/intake-plankto...</td>\n",
       "      <td>image</td>\n",
       "      <td>True</td>\n",
       "      <td>(CEFAS,)</td>\n",
       "      <td>(help-needed, 2D)</td>\n",
       "    </tr>\n",
       "    <tr>\n",
       "      <th>3</th>\n",
       "      <td>data-003</td>\n",
       "      <td>Koala</td>\n",
       "      <td>(TaskEnum.object_detection,)</td>\n",
       "      <td>(computer-vision,)</td>\n",
       "      <td>https://github.com/alan-turing-institute/scivi...</td>\n",
       "      <td>image</td>\n",
       "      <td>True</td>\n",
       "      <td>(Wikipedia by Erik Veland,)</td>\n",
       "      <td>(demo,)</td>\n",
       "    </tr>\n",
       "    <tr>\n",
       "      <th>4</th>\n",
       "      <td>data-004</td>\n",
       "      <td>Sample dataset of Plankton required to demonst...</td>\n",
       "      <td>(TaskEnum.classificiation,)</td>\n",
       "      <td>(computer-vision,)</td>\n",
       "      <td>https://raw.githubusercontent.com/alan-turing-...</td>\n",
       "      <td>image</td>\n",
       "      <td>True</td>\n",
       "      <td>(Centre for Environment, Fisheries and Aquacul...</td>\n",
       "      <td>(2D, plankton, ecology, environmental-science)</td>\n",
       "    </tr>\n",
       "    <tr>\n",
       "      <th>5</th>\n",
       "      <td>data-005</td>\n",
       "      <td>Sample dataset of satellite imagery required t...</td>\n",
       "      <td>(TaskEnum.classificiation, TaskEnum.segmentation)</td>\n",
       "      <td>(computer-vision, earth-observation, ecology)</td>\n",
       "      <td>https://github.com/MartinSJRogers/VEdge_Detector</td>\n",
       "      <td>image</td>\n",
       "      <td>False</td>\n",
       "      <td>(Cambridge University,)</td>\n",
       "      <td>(2D, satellite, remote-sensing, ecology, envir...</td>\n",
       "    </tr>\n",
       "  </tbody>\n",
       "</table>\n",
       "</div>"
      ],
      "text/plain": [
       "       name                                        description  \\\n",
       "0  data-000                                               None   \n",
       "1  data-001                                               None   \n",
       "2  data-002                                               None   \n",
       "3  data-003                                              Koala   \n",
       "4  data-004  Sample dataset of Plankton required to demonst...   \n",
       "5  data-005  Sample dataset of satellite imagery required t...   \n",
       "\n",
       "                                               tasks  \\\n",
       "0  (TaskEnum.object_detection, TaskEnum.segmentat...   \n",
       "1  (TaskEnum.segmentation, TaskEnum.thresholding,...   \n",
       "2                        (TaskEnum.classificiation,)   \n",
       "3                       (TaskEnum.object_detection,)   \n",
       "4                        (TaskEnum.classificiation,)   \n",
       "5  (TaskEnum.classificiation, TaskEnum.segmentation)   \n",
       "\n",
       "                                         domains  \\\n",
       "0                          (optical-microscopy,)   \n",
       "1                 (multispectral, hyperspectral)   \n",
       "2                                (oceanography,)   \n",
       "3                             (computer-vision,)   \n",
       "4                             (computer-vision,)   \n",
       "5  (computer-vision, earth-observation, ecology)   \n",
       "\n",
       "                                                 url format  labels_provided  \\\n",
       "0  https://github.com/stardist/stardist/releases/...  image             True   \n",
       "1  https://gitlab.au.dk/AUENG-Vision/OPPD/-/archi...  image             True   \n",
       "2  https://github.com/scotthosking/intake-plankto...  image             True   \n",
       "3  https://github.com/alan-turing-institute/scivi...  image             True   \n",
       "4  https://raw.githubusercontent.com/alan-turing-...  image             True   \n",
       "5   https://github.com/MartinSJRogers/VEdge_Detector  image            False   \n",
       "\n",
       "                                         institution  \\\n",
       "0                                            (epfl,)   \n",
       "1                               (Aarhus University,)   \n",
       "2                                           (CEFAS,)   \n",
       "3                        (Wikipedia by Erik Veland,)   \n",
       "4  (Centre for Environment, Fisheries and Aquacul...   \n",
       "5                            (Cambridge University,)   \n",
       "\n",
       "                                                tags  \n",
       "0  (help-needed, 3D, cell, cell-counting, biology...  \n",
       "1  (help-needed, 2D, plant-phenotyping, agricultu...  \n",
       "2                                  (help-needed, 2D)  \n",
       "3                                            (demo,)  \n",
       "4     (2D, plankton, ecology, environmental-science)  \n",
       "5  (2D, satellite, remote-sensing, ecology, envir...  "
      ]
     },
     "execution_count": 16,
     "metadata": {},
     "output_type": "execute_result"
    }
   ],
   "source": [
    "default_catalog.datasources.to_dataframe()"
   ]
  },
  {
   "cell_type": "code",
   "execution_count": 4,
   "metadata": {
    "pycharm": {
     "name": "#%%\n"
    }
   },
   "outputs": [],
   "source": [
    "compatible_datasources = default_catalog.compatible_datasources(model_name).to_dataframe()"
   ]
  },
  {
   "cell_type": "markdown",
   "metadata": {},
   "source": [
    "This returns a `pandas.dataframe` with the number of potential datasets to pair the model with."
   ]
  },
  {
   "cell_type": "code",
   "execution_count": 17,
   "metadata": {
    "pycharm": {
     "name": "#%%\n"
    },
    "scrolled": false
   },
   "outputs": [
    {
     "data": {
      "text/html": [
       "<div>\n",
       "<style scoped>\n",
       "    .dataframe tbody tr th:only-of-type {\n",
       "        vertical-align: middle;\n",
       "    }\n",
       "\n",
       "    .dataframe tbody tr th {\n",
       "        vertical-align: top;\n",
       "    }\n",
       "\n",
       "    .dataframe thead th {\n",
       "        text-align: right;\n",
       "    }\n",
       "</style>\n",
       "<table border=\"1\" class=\"dataframe\">\n",
       "  <thead>\n",
       "    <tr style=\"text-align: right;\">\n",
       "      <th></th>\n",
       "      <th>name</th>\n",
       "      <th>description</th>\n",
       "      <th>tasks</th>\n",
       "      <th>domains</th>\n",
       "      <th>url</th>\n",
       "      <th>format</th>\n",
       "      <th>labels_provided</th>\n",
       "      <th>institution</th>\n",
       "      <th>tags</th>\n",
       "    </tr>\n",
       "  </thead>\n",
       "  <tbody>\n",
       "    <tr>\n",
       "      <th>0</th>\n",
       "      <td>data-000</td>\n",
       "      <td>None</td>\n",
       "      <td>(TaskEnum.object_detection, TaskEnum.segmentat...</td>\n",
       "      <td>(optical-microscopy,)</td>\n",
       "      <td>https://github.com/stardist/stardist/releases/...</td>\n",
       "      <td>image</td>\n",
       "      <td>True</td>\n",
       "      <td>(epfl,)</td>\n",
       "      <td>(help-needed, 3D, cell, cell-counting, biology...</td>\n",
       "    </tr>\n",
       "    <tr>\n",
       "      <th>1</th>\n",
       "      <td>data-001</td>\n",
       "      <td>None</td>\n",
       "      <td>(TaskEnum.segmentation, TaskEnum.thresholding,...</td>\n",
       "      <td>(multispectral, hyperspectral)</td>\n",
       "      <td>https://gitlab.au.dk/AUENG-Vision/OPPD/-/archi...</td>\n",
       "      <td>image</td>\n",
       "      <td>True</td>\n",
       "      <td>(Aarhus University,)</td>\n",
       "      <td>(help-needed, 2D, plant-phenotyping, agricultu...</td>\n",
       "    </tr>\n",
       "    <tr>\n",
       "      <th>5</th>\n",
       "      <td>data-005</td>\n",
       "      <td>Sample dataset of satellite imagery required t...</td>\n",
       "      <td>(TaskEnum.classificiation, TaskEnum.segmentation)</td>\n",
       "      <td>(computer-vision, earth-observation, ecology)</td>\n",
       "      <td>https://github.com/MartinSJRogers/VEdge_Detector</td>\n",
       "      <td>image</td>\n",
       "      <td>False</td>\n",
       "      <td>(Cambridge University,)</td>\n",
       "      <td>(2D, satellite, remote-sensing, ecology, envir...</td>\n",
       "    </tr>\n",
       "  </tbody>\n",
       "</table>\n",
       "</div>"
      ],
      "text/plain": [
       "       name                                        description  \\\n",
       "0  data-000                                               None   \n",
       "1  data-001                                               None   \n",
       "5  data-005  Sample dataset of satellite imagery required t...   \n",
       "\n",
       "                                               tasks  \\\n",
       "0  (TaskEnum.object_detection, TaskEnum.segmentat...   \n",
       "1  (TaskEnum.segmentation, TaskEnum.thresholding,...   \n",
       "5  (TaskEnum.classificiation, TaskEnum.segmentation)   \n",
       "\n",
       "                                         domains  \\\n",
       "0                          (optical-microscopy,)   \n",
       "1                 (multispectral, hyperspectral)   \n",
       "5  (computer-vision, earth-observation, ecology)   \n",
       "\n",
       "                                                 url format  labels_provided  \\\n",
       "0  https://github.com/stardist/stardist/releases/...  image             True   \n",
       "1  https://gitlab.au.dk/AUENG-Vision/OPPD/-/archi...  image             True   \n",
       "5   https://github.com/MartinSJRogers/VEdge_Detector  image            False   \n",
       "\n",
       "               institution                                               tags  \n",
       "0                  (epfl,)  (help-needed, 3D, cell, cell-counting, biology...  \n",
       "1     (Aarhus University,)  (help-needed, 2D, plant-phenotyping, agricultu...  \n",
       "5  (Cambridge University,)  (2D, satellite, remote-sensing, ecology, envir...  "
      ]
     },
     "execution_count": 17,
     "metadata": {},
     "output_type": "execute_result"
    }
   ],
   "source": [
    "compatible_datasources"
   ]
  },
  {
   "cell_type": "markdown",
   "metadata": {},
   "source": [
    "## Model\n",
    "\n",
    "The following lines will look for the model URL (in this case the GitHub repository) from the scivision model catalog. After, the `load_pretrained_model` function will recognise the URL and install dependencies if they are not yet in the current virtual environment."
   ]
  },
  {
   "cell_type": "code",
   "execution_count": 18,
   "metadata": {},
   "outputs": [
    {
     "name": "stdout",
     "output_type": "stream",
     "text": [
      "Collecting vedge_detector\n",
      "  Cloning https://github.com/MartinSJRogers/VEdge_Detector.git@scivision (to revision main) to /private/var/folders/l8/99_59fvn4bl2szm125grkgqw0000gr/T/pip-install-zn8isdpd/vedge-detector_2848cc13058f446582a6664e66fba8e9\n"
     ]
    },
    {
     "name": "stderr",
     "output_type": "stream",
     "text": [
      "  Running command git clone --filter=blob:none --quiet https://github.com/MartinSJRogers/VEdge_Detector.git@scivision /private/var/folders/l8/99_59fvn4bl2szm125grkgqw0000gr/T/pip-install-zn8isdpd/vedge-detector_2848cc13058f446582a6664e66fba8e9\n",
      "  fatal: unable to access 'https://github.com/MartinSJRogers/VEdge_Detector.git@scivision/': The requested URL returned error: 400\n",
      "  error: subprocess-exited-with-error\n",
      "  \n",
      "  × git clone --filter=blob:none --quiet https://github.com/MartinSJRogers/VEdge_Detector.git@scivision /private/var/folders/l8/99_59fvn4bl2szm125grkgqw0000gr/T/pip-install-zn8isdpd/vedge-detector_2848cc13058f446582a6664e66fba8e9 did not run successfully.\n",
      "  │ exit code: 128\n",
      "  ╰─> See above for output.\n",
      "  \n",
      "  note: This error originates from a subprocess, and is likely not a problem with pip.\n",
      "error: subprocess-exited-with-error\n",
      "\n",
      "× git clone --filter=blob:none --quiet https://github.com/MartinSJRogers/VEdge_Detector.git@scivision /private/var/folders/l8/99_59fvn4bl2szm125grkgqw0000gr/T/pip-install-zn8isdpd/vedge-detector_2848cc13058f446582a6664e66fba8e9 did not run successfully.\n",
      "│ exit code: 128\n",
      "╰─> See above for output.\n",
      "\n",
      "note: This error originates from a subprocess, and is likely not a problem with pip.\n"
     ]
    },
    {
     "ename": "CalledProcessError",
     "evalue": "Command '['/Users/acoca/anaconda3/envs/coastalvegedge-detection-scivision/bin/python', '-m', 'pip', 'install', 'git+https://github.com/MartinSJRogers/VEdge_Detector.git@scivision@main#egg=vedge_detector']' returned non-zero exit status 1.",
     "output_type": "error",
     "traceback": [
      "\u001B[0;31m---------------------------------------------------------------------------\u001B[0m",
      "\u001B[0;31mCalledProcessError\u001B[0m                        Traceback (most recent call last)",
      "\u001B[0;32m/var/folders/l8/99_59fvn4bl2szm125grkgqw0000gr/T/ipykernel_12950/1908949266.py\u001B[0m in \u001B[0;36m<module>\u001B[0;34m\u001B[0m\n\u001B[1;32m      1\u001B[0m \u001B[0mmodels\u001B[0m \u001B[0;34m=\u001B[0m \u001B[0mdefault_catalog\u001B[0m\u001B[0;34m.\u001B[0m\u001B[0mmodels\u001B[0m\u001B[0;34m.\u001B[0m\u001B[0mto_dataframe\u001B[0m\u001B[0;34m(\u001B[0m\u001B[0;34m)\u001B[0m\u001B[0;34m\u001B[0m\u001B[0;34m\u001B[0m\u001B[0m\n\u001B[1;32m      2\u001B[0m \u001B[0mtargetmodel\u001B[0m \u001B[0;34m=\u001B[0m \u001B[0mmodels\u001B[0m\u001B[0;34m[\u001B[0m\u001B[0mmodels\u001B[0m\u001B[0;34m.\u001B[0m\u001B[0mname\u001B[0m \u001B[0;34m==\u001B[0m \u001B[0mmodel_name\u001B[0m\u001B[0;34m]\u001B[0m\u001B[0;34m.\u001B[0m\u001B[0murl\u001B[0m\u001B[0;34m.\u001B[0m\u001B[0mitem\u001B[0m\u001B[0;34m(\u001B[0m\u001B[0;34m)\u001B[0m\u001B[0;34m\u001B[0m\u001B[0;34m\u001B[0m\u001B[0m\n\u001B[0;32m----> 3\u001B[0;31m \u001B[0mmodel\u001B[0m \u001B[0;34m=\u001B[0m \u001B[0mload_pretrained_model\u001B[0m\u001B[0;34m(\u001B[0m\u001B[0mtargetmodel\u001B[0m\u001B[0;34m,\u001B[0m \u001B[0mbranch\u001B[0m\u001B[0;34m=\u001B[0m\u001B[0;34m'scivision'\u001B[0m\u001B[0;34m,\u001B[0m \u001B[0mallow_install\u001B[0m\u001B[0;34m=\u001B[0m\u001B[0;32mTrue\u001B[0m\u001B[0;34m)\u001B[0m\u001B[0;34m\u001B[0m\u001B[0;34m\u001B[0m\u001B[0m\n\u001B[0m",
      "\u001B[0;32m~/anaconda3/envs/coastalvegedge-detection-scivision/lib/python3.7/site-packages/scivision/koala.py\u001B[0m in \u001B[0;36mwrapped_fn\u001B[0;34m(*args, **kwargs)\u001B[0m\n\u001B[1;32m     55\u001B[0m         \u001B[0;31m# now call the function, but log any exceptions\u001B[0m\u001B[0;34m\u001B[0m\u001B[0;34m\u001B[0m\u001B[0;34m\u001B[0m\u001B[0m\n\u001B[1;32m     56\u001B[0m         \u001B[0;32mtry\u001B[0m\u001B[0;34m:\u001B[0m\u001B[0;34m\u001B[0m\u001B[0;34m\u001B[0m\u001B[0m\n\u001B[0;32m---> 57\u001B[0;31m             \u001B[0moutput\u001B[0m \u001B[0;34m=\u001B[0m \u001B[0mfn\u001B[0m\u001B[0;34m(\u001B[0m\u001B[0;34m*\u001B[0m\u001B[0margs\u001B[0m\u001B[0;34m,\u001B[0m \u001B[0;34m**\u001B[0m\u001B[0mkwargs\u001B[0m\u001B[0;34m)\u001B[0m\u001B[0;34m\u001B[0m\u001B[0;34m\u001B[0m\u001B[0m\n\u001B[0m\u001B[1;32m     58\u001B[0m         \u001B[0;32mexcept\u001B[0m \u001B[0mException\u001B[0m \u001B[0;32mas\u001B[0m \u001B[0me\u001B[0m\u001B[0;34m:\u001B[0m\u001B[0;34m\u001B[0m\u001B[0;34m\u001B[0m\u001B[0m\n\u001B[1;32m     59\u001B[0m             \u001B[0mlogger\u001B[0m\u001B[0;34m.\u001B[0m\u001B[0merror\u001B[0m\u001B[0;34m(\u001B[0m\u001B[0me\u001B[0m\u001B[0;34m)\u001B[0m\u001B[0;34m\u001B[0m\u001B[0;34m\u001B[0m\u001B[0m\n",
      "\u001B[0;32m~/anaconda3/envs/coastalvegedge-detection-scivision/lib/python3.7/site-packages/scivision/io/reader.py\u001B[0m in \u001B[0;36mload_pretrained_model\u001B[0;34m(path, branch, allow_install, model, load_multiple, *args, **kwargs)\u001B[0m\n\u001B[1;32m    171\u001B[0m \u001B[0;34m\u001B[0m\u001B[0m\n\u001B[1;32m    172\u001B[0m         \u001B[0;31m# try to install the package if necessary\u001B[0m\u001B[0;34m\u001B[0m\u001B[0;34m\u001B[0m\u001B[0;34m\u001B[0m\u001B[0m\n\u001B[0;32m--> 173\u001B[0;31m         \u001B[0minstall_package\u001B[0m\u001B[0;34m(\u001B[0m\u001B[0mconfig\u001B[0m\u001B[0;34m,\u001B[0m \u001B[0mallow_install\u001B[0m\u001B[0;34m=\u001B[0m\u001B[0mallow_install\u001B[0m\u001B[0;34m)\u001B[0m\u001B[0;34m\u001B[0m\u001B[0;34m\u001B[0m\u001B[0m\n\u001B[0m\u001B[1;32m    174\u001B[0m \u001B[0;34m\u001B[0m\u001B[0m\n\u001B[1;32m    175\u001B[0m         \u001B[0mloaded_models\u001B[0m\u001B[0;34m.\u001B[0m\u001B[0mappend\u001B[0m\u001B[0;34m(\u001B[0m\u001B[0mPretrainedModel\u001B[0m\u001B[0;34m(\u001B[0m\u001B[0mconfig\u001B[0m\u001B[0;34m)\u001B[0m\u001B[0;34m)\u001B[0m\u001B[0;34m\u001B[0m\u001B[0;34m\u001B[0m\u001B[0m\n",
      "\u001B[0;32m~/anaconda3/envs/coastalvegedge-detection-scivision/lib/python3.7/site-packages/scivision/io/installer.py\u001B[0m in \u001B[0;36minstall_package\u001B[0;34m(config, allow_install)\u001B[0m\n\u001B[1;32m     40\u001B[0m \u001B[0;34m\u001B[0m\u001B[0m\n\u001B[1;32m     41\u001B[0m         \u001B[0;32mif\u001B[0m \u001B[0mallow_install\u001B[0m\u001B[0;34m:\u001B[0m\u001B[0;34m\u001B[0m\u001B[0;34m\u001B[0m\u001B[0m\n\u001B[0;32m---> 42\u001B[0;31m             \u001B[0m_install\u001B[0m\u001B[0;34m(\u001B[0m\u001B[0mpackage\u001B[0m\u001B[0;34m)\u001B[0m\u001B[0;34m\u001B[0m\u001B[0;34m\u001B[0m\u001B[0m\n\u001B[0m\u001B[1;32m     43\u001B[0m         \u001B[0;32melse\u001B[0m\u001B[0;34m:\u001B[0m\u001B[0;34m\u001B[0m\u001B[0;34m\u001B[0m\u001B[0m\n\u001B[1;32m     44\u001B[0m             raise Exception(\n",
      "\u001B[0;32m~/anaconda3/envs/coastalvegedge-detection-scivision/lib/python3.7/site-packages/scivision/io/installer.py\u001B[0m in \u001B[0;36m_install\u001B[0;34m(package)\u001B[0m\n\u001B[1;32m     28\u001B[0m \u001B[0;32mdef\u001B[0m \u001B[0m_install\u001B[0m\u001B[0;34m(\u001B[0m\u001B[0mpackage\u001B[0m\u001B[0;34m)\u001B[0m\u001B[0;34m:\u001B[0m\u001B[0;34m\u001B[0m\u001B[0;34m\u001B[0m\u001B[0m\n\u001B[1;32m     29\u001B[0m     \u001B[0;34m\"\"\"Install a package using pip.\"\"\"\u001B[0m\u001B[0;34m\u001B[0m\u001B[0;34m\u001B[0m\u001B[0m\n\u001B[0;32m---> 30\u001B[0;31m     \u001B[0msubprocess\u001B[0m\u001B[0;34m.\u001B[0m\u001B[0mcheck_call\u001B[0m\u001B[0;34m(\u001B[0m\u001B[0;34m[\u001B[0m\u001B[0msys\u001B[0m\u001B[0;34m.\u001B[0m\u001B[0mexecutable\u001B[0m\u001B[0;34m,\u001B[0m \u001B[0;34m\"-m\"\u001B[0m\u001B[0;34m,\u001B[0m \u001B[0;34m\"pip\"\u001B[0m\u001B[0;34m,\u001B[0m \u001B[0;34m\"install\"\u001B[0m\u001B[0;34m,\u001B[0m \u001B[0mpackage\u001B[0m\u001B[0;34m]\u001B[0m\u001B[0;34m)\u001B[0m\u001B[0;34m\u001B[0m\u001B[0;34m\u001B[0m\u001B[0m\n\u001B[0m\u001B[1;32m     31\u001B[0m \u001B[0;34m\u001B[0m\u001B[0m\n\u001B[1;32m     32\u001B[0m \u001B[0;34m\u001B[0m\u001B[0m\n",
      "\u001B[0;32m~/anaconda3/envs/coastalvegedge-detection-scivision/lib/python3.7/subprocess.py\u001B[0m in \u001B[0;36mcheck_call\u001B[0;34m(*popenargs, **kwargs)\u001B[0m\n\u001B[1;32m    361\u001B[0m         \u001B[0;32mif\u001B[0m \u001B[0mcmd\u001B[0m \u001B[0;32mis\u001B[0m \u001B[0;32mNone\u001B[0m\u001B[0;34m:\u001B[0m\u001B[0;34m\u001B[0m\u001B[0;34m\u001B[0m\u001B[0m\n\u001B[1;32m    362\u001B[0m             \u001B[0mcmd\u001B[0m \u001B[0;34m=\u001B[0m \u001B[0mpopenargs\u001B[0m\u001B[0;34m[\u001B[0m\u001B[0;36m0\u001B[0m\u001B[0;34m]\u001B[0m\u001B[0;34m\u001B[0m\u001B[0;34m\u001B[0m\u001B[0m\n\u001B[0;32m--> 363\u001B[0;31m         \u001B[0;32mraise\u001B[0m \u001B[0mCalledProcessError\u001B[0m\u001B[0;34m(\u001B[0m\u001B[0mretcode\u001B[0m\u001B[0;34m,\u001B[0m \u001B[0mcmd\u001B[0m\u001B[0;34m)\u001B[0m\u001B[0;34m\u001B[0m\u001B[0;34m\u001B[0m\u001B[0m\n\u001B[0m\u001B[1;32m    364\u001B[0m     \u001B[0;32mreturn\u001B[0m \u001B[0;36m0\u001B[0m\u001B[0;34m\u001B[0m\u001B[0;34m\u001B[0m\u001B[0m\n\u001B[1;32m    365\u001B[0m \u001B[0;34m\u001B[0m\u001B[0m\n",
      "\u001B[0;31mCalledProcessError\u001B[0m: Command '['/Users/acoca/anaconda3/envs/coastalvegedge-detection-scivision/bin/python', '-m', 'pip', 'install', 'git+https://github.com/MartinSJRogers/VEdge_Detector.git@scivision@main#egg=vedge_detector']' returned non-zero exit status 1."
     ]
    }
   ],
   "source": [
    "models = default_catalog.models.to_dataframe()\n",
    "targetmodel = models[models.name == model_name].url.item()\n",
    "model = load_pretrained_model(targetmodel, branch='scivision', allow_install=True)"
   ]
  },
  {
   "cell_type": "code",
   "execution_count": null,
   "metadata": {
    "colab": {
     "base_uri": "https://localhost:8080/"
    },
    "id": "jQXKo2PbhdEf",
    "outputId": "0e06abef-0b4f-4c85-92dd-22426e448e71",
    "pycharm": {
     "name": "#%%\n"
    }
   },
   "outputs": [],
   "source": [
    "# let's explore the model object\n",
    "model"
   ]
  },
  {
   "cell_type": "markdown",
   "metadata": {
    "id": "mHzf9T_KhdEW"
   },
   "source": [
    "## Load data"
   ]
  },
  {
   "cell_type": "code",
   "execution_count": null,
   "metadata": {
    "id": "mmEMrSMJhdEc",
    "pycharm": {
     "name": "#%%\n"
    }
   },
   "outputs": [],
   "source": [
    "cat = load_dataset('https://github.com/acocac/VEdge_Detector')"
   ]
  },
  {
   "cell_type": "code",
   "execution_count": null,
   "metadata": {
    "id": "Of6dhYqz-Z7e"
   },
   "outputs": [],
   "source": [
    "dataset = cat.sample_image(sample_image='winterton').to_dask()"
   ]
  },
  {
   "cell_type": "markdown",
   "metadata": {},
   "source": [
    "## Prediction and Visualisation"
   ]
  },
  {
   "cell_type": "code",
   "execution_count": null,
   "metadata": {},
   "outputs": [],
   "source": [
    "pred = model.predict(X=dataset,provider='Planet')"
   ]
  }
 ],
 "metadata": {
  "colab": {
   "name": "pretrained_imagenet_scivision_example.ipynb",
   "provenance": []
  },
  "kernelspec": {
   "display_name": "Python 3 (ipykernel)",
   "language": "python",
   "name": "python3"
  },
  "language_info": {
   "codemirror_mode": {
    "name": "ipython",
    "version": 3
   },
   "file_extension": ".py",
   "mimetype": "text/x-python",
   "name": "python",
   "nbconvert_exporter": "python",
   "pygments_lexer": "ipython3",
   "version": "3.7.12"
  }
 },
 "nbformat": 4,
 "nbformat_minor": 4
}